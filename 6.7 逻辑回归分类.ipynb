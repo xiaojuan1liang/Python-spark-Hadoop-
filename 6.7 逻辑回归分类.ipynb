{
 "cells": [
  {
   "cell_type": "code",
   "execution_count": 1,
   "metadata": {},
   "outputs": [],
   "source": [
    "# -*- coding: UTF-8 -*-\n",
    "import sys\n",
    "from time import time\n",
    "import pandas as pd\n",
    "import matplotlib.pyplot as plt\n",
    "from pyspark import SparkConf, SparkContext\n",
    "from pyspark.mllib.classification import LogisticRegressionWithSGD\n",
    "from pyspark.mllib.regression import LabeledPoint\n",
    "import numpy as np\n",
    "from pyspark.mllib.evaluation import BinaryClassificationMetrics\n",
    "from pyspark.mllib.feature import StandardScaler\n"
   ]
  },
  {
   "cell_type": "code",
   "execution_count": 2,
   "metadata": {},
   "outputs": [],
   "source": [
    "def SetPath(sc):\n",
    "    global Path\n",
    "    if sc.master[0:5]==\"local\" :\n",
    "        Path=\"file:/home/hduser/pythonwork/PythonProject/\"\n",
    "    else:   \n",
    "        Path=\"hdfs://master:9000/user/hduser/\"\n"
   ]
  },
  {
   "cell_type": "code",
   "execution_count": 3,
   "metadata": {},
   "outputs": [],
   "source": [
    "def extract_label(record):\n",
    "    label=(record[-1])\n",
    "    return float(label)\n"
   ]
  },
  {
   "cell_type": "code",
   "execution_count": 4,
   "metadata": {},
   "outputs": [],
   "source": [
    "def extract_features(field,categoriesMap,featureEnd):\n",
    "    categoryIdx = categoriesMap[field[3]]\n",
    "    categoryFeatures = np.zeros(len(categoriesMap))\n",
    "    categoryFeatures[categoryIdx] = 1\n",
    "    numericalFeatures=[convert_float(field)  for  field in field[4: featureEnd]]    \n",
    "    return  np.concatenate(( categoryFeatures, numericalFeatures))\n"
   ]
  },
  {
   "cell_type": "code",
   "execution_count": 5,
   "metadata": {},
   "outputs": [],
   "source": [
    "def convert_float(x):\n",
    "    return (0 if x==\"?\" else float(x))\n"
   ]
  },
  {
   "cell_type": "code",
   "execution_count": 6,
   "metadata": {},
   "outputs": [],
   "source": [
    "def PrepareData(sc): \n",
    "    #----------------------1.导入并转换数据-------------\n",
    "    print(\"开始导入数据...\")\n",
    "    rawDataWithHeader = sc.textFile(Path+\"data/train.tsv\")\n",
    "    header = rawDataWithHeader.first() \n",
    "    rawData = rawDataWithHeader.filter(lambda x:x !=header)    \n",
    "    rData=rawData.map(lambda x: x.replace(\"\\\"\", \"\"))    \n",
    "    lines = rData.map(lambda x: x.split(\"\\t\"))\n",
    "    print(\"共计：\" + str(lines.count()) + \"项\")\n",
    "    #----------------------2.建立训练评估所需数据 RDD[LabeledPoint]-------------\n",
    "    print \"标准化之前：\",\n",
    "    categoriesMap = lines.map(lambda fields: fields[3]).distinct().zipWithIndex().collectAsMap()\n",
    "    labelRDD = lines.map(lambda r:  extract_label(r))\n",
    "    featureRDD = lines.map(lambda r:  extract_features(r,categoriesMap,len(r) - 1))\n",
    "    for i in featureRDD.first():\n",
    "        print (str(i)+\",\"),\n",
    "    print \"\"       \n",
    "    print \"标准化之后：\",       \n",
    "    stdScaler = StandardScaler(withMean=True, withStd=True).fit(featureRDD)\n",
    "    ScalerFeatureRDD=stdScaler.transform(featureRDD)\n",
    "    for i in ScalerFeatureRDD.first():\n",
    "        print (str(i)+\",\"),\n",
    "    labelpoint=labelRDD.zip(ScalerFeatureRDD)\n",
    "    labelpointRDD=labelpoint.map(lambda r: LabeledPoint(r[0], r[1]))\n",
    "    #----------------------3.以随机方式将数据分为3个部分并且返回-------------\n",
    "    (trainData, validationData, testData) = labelpointRDD.randomSplit([8, 1, 1])\n",
    "    print(\"将数据分trainData:\" + str(trainData.count()) + \n",
    "              \"   validationData:\" + str(validationData.count()) +\n",
    "              \"   testData:\" + str(testData.count()))\n",
    "    return (trainData, validationData, testData, categoriesMap) #返回数据\n"
   ]
  },
  {
   "cell_type": "code",
   "execution_count": 7,
   "metadata": {},
   "outputs": [],
   "source": [
    "def PredictData(sc,model,categoriesMap): \n",
    "    print(\"开始导入数据...\")\n",
    "    rawDataWithHeader = sc.textFile(Path+\"data/test.tsv\")\n",
    "    header = rawDataWithHeader.first() \n",
    "    rawData = rawDataWithHeader.filter(lambda x:x !=header)    \n",
    "    rData=rawData.map(lambda x: x.replace(\"\\\"\", \"\"))    \n",
    "    lines = rData.map(lambda x: x.split(\"\\t\"))\n",
    "    print(\"共计：\" + str(lines.count()) + \"项\")\n",
    "    dataRDD = lines.map(lambda r:  ( r[0]  ,\n",
    "                            extract_features(r,categoriesMap,len(r) )))\n",
    "    DescDict = {\n",
    "           0: \"暂时性网页(ephemeral)\",\n",
    "           1: \"长青网页(evergreen)\"\n",
    "     }\n",
    "    for data in dataRDD.take(10):\n",
    "        predictResult = model.predict(data[1])\n",
    "        print \" 网址：  \" +str(data[0])+\"\\n\" +\\\n",
    "                  \"             ==>预测:\"+ str(predictResult)+ \\\n",
    "                  \" 说明:\"+DescDict[predictResult] +\"\\n\"\n"
   ]
  },
  {
   "cell_type": "code",
   "execution_count": 8,
   "metadata": {},
   "outputs": [],
   "source": [
    "def evaluateModel(model, validationData):\n",
    "    score = model.predict(validationData.map(lambda p: p.features))\n",
    "    scoreAndLabels=score.zip(validationData \\\n",
    "                                   .map(lambda p: p.label))  \\\n",
    "                                   .map(lambda (x,y): (float(x),float(y)) )\n",
    "    metrics = BinaryClassificationMetrics(scoreAndLabels)\n",
    "    AUC=metrics.areaUnderROC\n",
    "    return( AUC)\n"
   ]
  },
  {
   "cell_type": "code",
   "execution_count": 9,
   "metadata": {},
   "outputs": [],
   "source": [
    "def trainEvaluateModel(trainData,validationData,\n",
    "                                        numIterations, stepSize, miniBatchFraction):\n",
    "    startTime = time()\n",
    "    model = LogisticRegressionWithSGD.train(trainData, \n",
    "                                        numIterations, stepSize, miniBatchFraction)\n",
    "    AUC = evaluateModel(model, validationData)\n",
    "    duration = time() - startTime\n",
    "    print    \"训练评估：使用参数\" + \\\n",
    "                \" numIterations=\"+str(numIterations) +\\\n",
    "                \" stepSize=\"+str(stepSize) + \\\n",
    "                \" miniBatchFraction=\"+str(miniBatchFraction) +\\\n",
    "                 \" 所需时间=\"+str(duration) + \\\n",
    "                 \" 结果AUC = \" + str(AUC) \n",
    "    return (AUC,duration, numIterations, stepSize, miniBatchFraction,model)\n"
   ]
  },
  {
   "cell_type": "code",
   "execution_count": 10,
   "metadata": {},
   "outputs": [],
   "source": [
    "def evalParameter(trainData, validationData, evalparm,\n",
    "                  numIterationsList, stepSizeList, miniBatchFractionList):\n",
    "    \n",
    "    metrics = [trainEvaluateModel(trainData, validationData,  \n",
    "                                numIterations,stepSize,  miniBatchFraction  ) \n",
    "                       for numIterations in numIterationsList\n",
    "                       for stepSize in stepSizeList  \n",
    "                       for miniBatchFraction in miniBatchFractionList ]\n",
    "    \n",
    "    if evalparm==\"numIterations\":\n",
    "        IndexList=numIterationsList[:]\n",
    "    elif evalparm==\"stepSize\":\n",
    "        IndexList=stepSizeList[:]\n",
    "    elif evalparm==\"miniBatchFraction\":\n",
    "        IndexList=miniBatchFractionList[:]\n",
    "    \n",
    "    df = pd.DataFrame(metrics,index=IndexList,\n",
    "            columns=['AUC', 'duration','numIterations', 'stepSize', 'miniBatchFraction','model'])\n",
    "    \n",
    "    showchart(df,evalparm,'AUC','duration',0.5,0.7 )\n",
    " \n"
   ]
  },
  {
   "cell_type": "code",
   "execution_count": 11,
   "metadata": {},
   "outputs": [],
   "source": [
    "def showchart(df,evalparm ,barData,lineData,yMin,yMax):\n",
    "    ax = df[barData].plot(kind='bar', title =evalparm,figsize=(10,6),legend=True, fontsize=12)\n",
    "    ax.set_xlabel(evalparm,fontsize=12)\n",
    "    ax.set_ylim([yMin,yMax])\n",
    "    ax.set_ylabel(barData,fontsize=12)\n",
    "    ax2 = ax.twinx()\n",
    "    ax2.plot(df[[lineData ]].values, linestyle='-', marker='o', linewidth=2.0,color='r')\n",
    "    plt.show()\n"
   ]
  },
  {
   "cell_type": "code",
   "execution_count": 12,
   "metadata": {},
   "outputs": [],
   "source": [
    "def evalAllParameter(trainData, validationData, \n",
    "                     numIterationsList, stepSizeList, miniBatchFractionList):    \n",
    "    metrics = [trainEvaluateModel(trainData, validationData,  \n",
    "                            numIterations,stepSize,  miniBatchFraction  ) \n",
    "                      for numIterations in numIterationsList \n",
    "                      for stepSize in stepSizeList  \n",
    "                      for  miniBatchFraction in miniBatchFractionList ]\n",
    "    \n",
    "    Smetrics = sorted(metrics, key=lambda k: k[0], reverse=True)\n",
    "    bestParameter=Smetrics[0]\n",
    "    \n",
    "    print(\"调校后最佳参数：numIterations:\" + str(bestParameter[2]) + \n",
    "                                      \"  ,stepSize:\" + str(bestParameter[3]) + \n",
    "                                     \"  ,miniBatchFraction:\" + str(bestParameter[4])   + \n",
    "                                      \"  ,结果AUC = \" + str(bestParameter[0]))\n",
    "    \n",
    "    return bestParameter[5]\n"
   ]
  },
  {
   "cell_type": "code",
   "execution_count": 13,
   "metadata": {},
   "outputs": [],
   "source": [
    "def  parametersEval(trainData, validationData):\n",
    "    print(\"----- 评估numIterations参数使用 ---------\")\n",
    "    evalParameter(trainData, validationData,\"numIterations\", \n",
    "                              numIterationsList=[5, 15, 20, 60, 100],   \n",
    "                              stepSizeList=[10],  \n",
    "                              miniBatchFractionList=[1 ])  \n",
    "    print(\"----- 评估stepSize参数使用 ---------\")\n",
    "    evalParameter(trainData, validationData,\"stepSize\", \n",
    "                              numIterationsList=[100],                    \n",
    "                              stepSizeList=[10, 50, 100, 200],    \n",
    "                              miniBatchFractionList=[1])   \n",
    "    print(\"----- 评估miniBatchFraction参数使用 ---------\")\n",
    "    evalParameter(trainData, validationData,\"miniBatchFraction\", \n",
    "                              numIterationsList=[100],      \n",
    "                              stepSizeList =[100],        \n",
    "                              miniBatchFractionList=[0.5, 0.8, 1 ])\n"
   ]
  },
  {
   "cell_type": "code",
   "execution_count": 14,
   "metadata": {},
   "outputs": [],
   "source": [
    "def CreateSparkContext():\n",
    "    sparkConf = SparkConf().setAppName(\"LogisticRegressionWithSGD\").set(\"spark.ui.showConsoleProgress\", \"false\") \n",
    "    sc = SparkContext(conf = sparkConf)\n",
    "    print (\"master=\"+sc.master)    \n",
    "    SetPath(sc)\n",
    "    return (sc)\n"
   ]
  },
  {
   "cell_type": "code",
   "execution_count": 15,
   "metadata": {
    "scrolled": false
   },
   "outputs": [
    {
     "name": "stdout",
     "output_type": "stream",
     "text": [
      "RunLogisticRegressionWithSGDBinary\n",
      "master=local[*]\n",
      "==========数据准备阶段===============\n",
      "开始导入数据...\n",
      "共计：7395项\n",
      "标准化之前： 0.0, 1.0, 0.0, 0.0, 0.0, 0.0, 0.0, 0.0, 0.0, 0.0, 0.0, 0.0, 0.0, 0.0, 0.789131, 2.055555556, 0.676470588, 0.205882353, 0.047058824, 0.023529412, 0.443783175, 0.0, 0.0, 0.09077381, 0.0, 0.245831182, 0.003883495, 1.0, 1.0, 24.0, 0.0, 5424.0, 170.0, 8.0, 0.152941176, 0.079129575, \n",
      "标准化之后： -0.4464212047941535, 2.7207366564548514, -0.20418221057887365, -0.22052688457880879, -0.06487757239262681, -0.2709990696925828, -0.6807527904251456, -0.10189469097220732, -0.028494000387023734, -0.2016540523193296, -0.23272797709480803, -0.09914991930875496, -0.02326210589837061, -0.38181322324318134, 1.137647336497678, -0.08193557169294771, 1.0251398128933331, -0.05586356442541689, -0.4688932531289357, -0.3543053263079386, -0.3175352172363148, 0.3384507982396541, 0.0, 0.828822173315322, -0.14726894334628504, 0.22963982357813484, -0.14162596909880876, 0.7902380499177364, 0.7171947294529865, -0.29799681649642257, -0.2034625779299476, -0.03296720969690391, -0.04878112975579913, 0.9400699751165439, -0.10869848852526258, -0.2788207823137022, 将数据分trainData:5901   validationData:722   testData:772\n",
      "==========训练评估阶段===============\n"
     ]
    },
    {
     "name": "stderr",
     "output_type": "stream",
     "text": [
      "/usr/local/spark/python/pyspark/mllib/classification.py:313: UserWarning: Deprecated in 2.0.0. Use ml.classification.LogisticRegression or LogisticRegressionWithLBFGS.\n",
      "  \"Deprecated in 2.0.0. Use ml.classification.LogisticRegression or \"\n"
     ]
    },
    {
     "name": "stdout",
     "output_type": "stream",
     "text": [
      "训练评估：使用参数 numIterations=15 stepSize=10 miniBatchFraction=0.5 所需时间=9.27591490746 结果AUC = 0.652138607308\n",
      "-----所有参数训练评估找出最好的参数组合---------\n",
      "训练评估：使用参数 numIterations=3 stepSize=10 miniBatchFraction=0.5 所需时间=0.796790122986 结果AUC = 0.582900377922\n",
      "训练评估：使用参数 numIterations=3 stepSize=10 miniBatchFraction=0.8 所需时间=0.592526912689 结果AUC = 0.582900377922\n",
      "训练评估：使用参数 numIterations=3 stepSize=10 miniBatchFraction=1 所需时间=0.851670026779 结果AUC = 0.584520593284\n",
      "训练评估：使用参数 numIterations=3 stepSize=50 miniBatchFraction=0.5 所需时间=0.885801076889 结果AUC = 0.569161259535\n",
      "训练评估：使用参数 numIterations=3 stepSize=50 miniBatchFraction=0.8 所需时间=0.63846206665 结果AUC = 0.57471848277\n",
      "训练评估：使用参数 numIterations=3 stepSize=50 miniBatchFraction=1 所需时间=0.638918161392 结果AUC = 0.575722939325\n",
      "训练评估：使用参数 numIterations=3 stepSize=100 miniBatchFraction=0.5 所需时间=0.60569190979 结果AUC = 0.571785931451\n",
      "训练评估：使用参数 numIterations=3 stepSize=100 miniBatchFraction=0.8 所需时间=0.571465969086 结果AUC = 0.574564543068\n",
      "训练评估：使用参数 numIterations=3 stepSize=100 miniBatchFraction=1 所需时间=0.631972074509 结果AUC = 0.57618475843\n",
      "训练评估：使用参数 numIterations=5 stepSize=10 miniBatchFraction=0.5 所需时间=0.619342088699 结果AUC = 0.609528097844\n",
      "训练评估：使用参数 numIterations=5 stepSize=10 miniBatchFraction=0.8 所需时间=0.58894109726 结果AUC = 0.627050284404\n",
      "训练评估：使用参数 numIterations=5 stepSize=10 miniBatchFraction=1 所需时间=0.572100162506 结果AUC = 0.637548972068\n",
      "训练评估：使用参数 numIterations=5 stepSize=50 miniBatchFraction=0.5 所需时间=0.687350034714 结果AUC = 0.564373734808\n",
      "训练评估：使用参数 numIterations=5 stepSize=50 miniBatchFraction=0.8 所需时间=0.637102842331 结果AUC = 0.567306286128\n",
      "训练评估：使用参数 numIterations=5 stepSize=50 miniBatchFraction=1 所需时间=0.478028059006 结果AUC = 0.557658115316\n",
      "训练评估：使用参数 numIterations=5 stepSize=100 miniBatchFraction=0.5 所需时间=0.724838972092 结果AUC = 0.563604036299\n",
      "训练评估：使用参数 numIterations=5 stepSize=100 miniBatchFraction=0.8 所需时间=0.658081054688 结果AUC = 0.563757976001\n",
      "训练评估：使用参数 numIterations=5 stepSize=100 miniBatchFraction=1 所需时间=0.992914915085 结果AUC = 0.565532131064\n",
      "训练评估：使用参数 numIterations=10 stepSize=10 miniBatchFraction=0.5 所需时间=1.43560886383 结果AUC = 0.630679412874\n",
      "训练评估：使用参数 numIterations=10 stepSize=10 miniBatchFraction=0.8 所需时间=1.29703116417 结果AUC = 0.618252630445\n",
      "训练评估：使用参数 numIterations=10 stepSize=10 miniBatchFraction=1 所需时间=1.67498707771 结果AUC = 0.620877302361\n",
      "训练评估：使用参数 numIterations=10 stepSize=50 miniBatchFraction=0.5 所需时间=1.34646201134 结果AUC = 0.552562711186\n",
      "训练评估：使用参数 numIterations=10 stepSize=50 miniBatchFraction=0.8 所需时间=1.06712293625 结果AUC = 0.542606660971\n",
      "训练评估：使用参数 numIterations=10 stepSize=50 miniBatchFraction=1 所需时间=0.795125007629 结果AUC = 0.542760600673\n",
      "训练评估：使用参数 numIterations=10 stepSize=100 miniBatchFraction=0.5 所需时间=0.82646894455 结果AUC = 0.558816511572\n",
      "训练评估：使用参数 numIterations=10 stepSize=100 miniBatchFraction=0.8 所需时间=0.830107927322 结果AUC = 0.560436726934\n",
      "训练评估：使用参数 numIterations=10 stepSize=100 miniBatchFraction=1 所需时间=0.745628118515 结果AUC = 0.556191839656\n",
      "训练评估：使用参数 numIterations=15 stepSize=10 miniBatchFraction=0.5 所需时间=0.893581867218 结果AUC = 0.652138607308\n",
      "训练评估：使用参数 numIterations=15 stepSize=10 miniBatchFraction=0.8 所需时间=0.884325027466 结果AUC = 0.656537434287\n",
      "训练评估：使用参数 numIterations=15 stepSize=10 miniBatchFraction=1 所需时间=0.84042596817 结果AUC = 0.656537434287\n",
      "训练评估：使用参数 numIterations=15 stepSize=50 miniBatchFraction=0.5 所需时间=0.59373998642 结果AUC = 0.572247750556\n",
      "训练评估：使用参数 numIterations=15 stepSize=50 miniBatchFraction=0.8 所需时间=0.680643081665 结果AUC = 0.57911730975\n",
      "训练评估：使用参数 numIterations=15 stepSize=50 miniBatchFraction=1 所需时间=0.670897960663 结果AUC = 0.583208257326\n",
      "训练评估：使用参数 numIterations=15 stepSize=100 miniBatchFraction=0.5 所需时间=0.6662940979 结果AUC = 0.568310742682\n",
      "训练评估：使用参数 numIterations=15 stepSize=100 miniBatchFraction=0.8 所需时间=0.717808008194 结果AUC = 0.5710893543\n",
      "训练评估：使用参数 numIterations=15 stepSize=100 miniBatchFraction=1 所需时间=0.662227869034 结果AUC = 0.5710893543\n",
      "调校后最佳参数：numIterations:15  ,stepSize:10  ,miniBatchFraction:0.8  ,结果AUC = 0.656537434287\n",
      "==========测试阶段===============\n",
      "使用test Data测试最佳模型,结果 AUC:0.67365572989\n",
      "==========预测数据===============\n",
      "开始导入数据...\n",
      "共计：3171项\n",
      " 网址：  http://www.lynnskitchenadventures.com/2009/04/homemade-enchilada-sauce.html\n",
      "             ==>预测:0 说明:暂时性网页(ephemeral)\n",
      "\n",
      " 网址：  http://lolpics.se/18552-stun-grenade-ar\n",
      "             ==>预测:0 说明:暂时性网页(ephemeral)\n",
      "\n",
      " 网址：  http://www.xcelerationfitness.com/treadmills.html\n",
      "             ==>预测:0 说明:暂时性网页(ephemeral)\n",
      "\n",
      " 网址：  http://www.bloomberg.com/news/2012-02-06/syria-s-assad-deploys-tactics-of-father-to-crush-revolt-threatening-reign.html\n",
      "             ==>预测:0 说明:暂时性网页(ephemeral)\n",
      "\n",
      " 网址：  http://www.wired.com/gadgetlab/2011/12/stem-turns-lemons-and-limes-into-juicy-atomizers/\n",
      "             ==>预测:0 说明:暂时性网页(ephemeral)\n",
      "\n",
      " 网址：  http://www.latimes.com/health/boostershots/la-heb-fat-tax-denmark-20111013,0,2603132.story\n",
      "             ==>预测:0 说明:暂时性网页(ephemeral)\n",
      "\n",
      " 网址：  http://www.howlifeworks.com/a/a?AG_ID=1186&cid=7340ci\n",
      "             ==>预测:0 说明:暂时性网页(ephemeral)\n",
      "\n",
      " 网址：  http://romancingthestoveblog.wordpress.com/2010/01/13/sweet-potato-ravioli-with-lemon-sage-brown-butter-sauce/\n",
      "             ==>预测:0 说明:暂时性网页(ephemeral)\n",
      "\n",
      " 网址：  http://www.funniez.net/Funny-Pictures/turn-men-down.html\n",
      "             ==>预测:0 说明:暂时性网页(ephemeral)\n",
      "\n",
      " 网址：  http://youfellasleepwatchingadvd.com/\n",
      "             ==>预测:0 说明:暂时性网页(ephemeral)\n",
      "\n"
     ]
    }
   ],
   "source": [
    "if __name__ == \"__main__\":\n",
    "    print(\"RunLogisticRegressionWithSGDBinary\")\n",
    "    sc.stop()\n",
    "    sc=CreateSparkContext()\n",
    "    print(\"==========数据准备阶段===============\")\n",
    "    (trainData, validationData, testData, categoriesMap) =PrepareData(sc)\n",
    "    trainData.persist(); validationData.persist(); testData.persist()\n",
    "    print(\"==========训练评估阶段===============\")\n",
    "    (AUC,duration, numIterationsParm, stepSizeParm, miniBatchFractionParm,model)= \\\n",
    "          trainEvaluateModel(trainData, validationData, 15, 10, 0.5)\n",
    "    \n",
    "    flag_mark = 2\n",
    "    \n",
    "    if flag_mark == 1:\n",
    "        parametersEval(trainData, validationData)\n",
    "    elif flag_mark !=1:\n",
    "        print(\"-----所有参数训练评估找出最好的参数组合---------\")  \n",
    "        model=evalAllParameter(trainData, validationData,\n",
    "                         [3, 5, 10,15], \n",
    "                         [10, 50, 100],\n",
    "                          [0.5, 0.8, 1 ])\n",
    "    print(\"==========测试阶段===============\")\n",
    "    auc = evaluateModel(model, testData)\n",
    "    print(\"使用test Data测试最佳模型,结果 AUC:\" + str(auc))\n",
    "    print(\"==========预测数据===============\")\n",
    "    PredictData(sc, model, categoriesMap)\n"
   ]
  },
  {
   "cell_type": "code",
   "execution_count": null,
   "metadata": {},
   "outputs": [],
   "source": []
  }
 ],
 "metadata": {
  "kernelspec": {
   "display_name": "Python 2",
   "language": "python",
   "name": "python2"
  },
  "language_info": {
   "codemirror_mode": {
    "name": "ipython",
    "version": 2
   },
   "file_extension": ".py",
   "mimetype": "text/x-python",
   "name": "python",
   "nbconvert_exporter": "python",
   "pygments_lexer": "ipython2",
   "version": "2.7.15"
  }
 },
 "nbformat": 4,
 "nbformat_minor": 2
}
